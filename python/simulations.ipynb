{
 "cells": [
  {
   "cell_type": "markdown",
   "id": "c04447c3-c1e5-4c2b-90a4-35099c8e8018",
   "metadata": {},
   "source": [
    "# Kinds of Kindness: simulations code\n",
    "This notebook contains the code necessary to create the simulated dataset for a (noisy) utility maximzer characterised by a utility function such as the CES on a given set of constraints."
   ]
  },
  {
   "cell_type": "code",
   "execution_count": 1,
   "id": "29d5037c-3177-4f34-b5f7-6871fcd2bd36",
   "metadata": {},
   "outputs": [],
   "source": [
    "import sys\n",
    "sys.path.append('/Users/federicobassi/Desktop/TI.nosync/MPhil_Thesis/python/utils')\n",
    "from utils.data_generation import *\n",
    "from utils.data_plotting import *\n",
    "from utils.test_rev_pref import *\n",
    "from utils.maximize_utility_bc import *\n",
    "from utils.budget_placement import *\n",
    "import seaborn as sns\n",
    "import matplotlib as mpl\n",
    "from min_sigma_garp import min_sigma_for_garp\n",
    "mpl.rcParams.update({\"font.family\": \"serif\", \"font.serif\": [\"Times New Roman\"],\"axes.titlesize\": 18, \"axes.titleweight\": \"bold\",})\n",
    "import matplotlib.pyplot as plt\n",
    "import numpy as np\n",
    "import pickle\n",
    "np.random.seed(123)"
   ]
  },
  {
   "cell_type": "markdown",
   "id": "498acf06-88ba-40cb-a0f2-35e10edf9373",
   "metadata": {},
   "source": [
    "## Setup"
   ]
  },
  {
   "cell_type": "markdown",
   "id": "2357e68a-00da-4af1-a853-125207b24830",
   "metadata": {},
   "source": [
    "### Paths"
   ]
  },
  {
   "cell_type": "code",
   "execution_count": 2,
   "id": "4e842c52-605f-45f7-9fa8-e9ce6738ccb3",
   "metadata": {},
   "outputs": [],
   "source": [
    "path = \"/Users/federicobassi/Desktop/TI.nosync/MPhil_Thesis\"\n",
    "img_path = path+\"/plots/simulations\"\n",
    "out = path + \"/simulated_data\""
   ]
  },
  {
   "cell_type": "markdown",
   "id": "e2d05625-981a-484e-a539-324f53682eb3",
   "metadata": {},
   "source": [
    "### Parameters distribution"
   ]
  },
  {
   "cell_type": "code",
   "execution_count": 3,
   "id": "1573c192-8ff1-4d55-b768-bcf6d759f58d",
   "metadata": {},
   "outputs": [],
   "source": [
    "# Parameters\n",
    "param_distribution_ces = {'alpha_ces': lambda: np.random.uniform(0.5, 1),\n",
    "                              'rho_ces': lambda: np.random.uniform(-0.5, 0.95)}"
   ]
  },
  {
   "cell_type": "markdown",
   "id": "7373c41f-eb23-4076-a556-f11a330d1e25",
   "metadata": {},
   "source": [
    "### Budget constraints"
   ]
  },
  {
   "cell_type": "code",
   "execution_count": 4,
   "id": "46b1f4ec-de00-427b-9dd2-591462d14403",
   "metadata": {},
   "outputs": [],
   "source": [
    "andreoni_miller_budgets = [(120, 40), (40, 120), (120, 60), (60, 120), (150, 75),\n",
    "                               (75, 150), (60, 60), (100, 100), (80, 80), (160, 40), (40, 160)]\n",
    "\n",
    "andreoni_miller_budgets = [(10*ms, 10*mo) for ms, mo in andreoni_miller_budgets]\n",
    "\n",
    "with open(out+\"/budget_constraints_alg2.pkl\", \"rb\") as f:\n",
    "    budget_constraints_alg2 = pickle.load(f)\n",
    "\n",
    "#del budget_constraints_alg2[-1]\n",
    "\n",
    "upward_sloping = [(10, 130), (20, 110), (40, 70), (70,40), (110,20), (130, 10)]"
   ]
  },
  {
   "cell_type": "code",
   "execution_count": 5,
   "id": "3622a69e-068a-4510-b81d-4f7e75f80c51",
   "metadata": {},
   "outputs": [
    {
     "data": {
      "text/plain": [
       "[(1200, 400),\n",
       " (400, 1200),\n",
       " (1200, 600),\n",
       " (600, 1200),\n",
       " (1500, 750),\n",
       " (750, 1500),\n",
       " (600, 600),\n",
       " (1000, 1000),\n",
       " (800, 800),\n",
       " (1600, 400),\n",
       " (400, 1600)]"
      ]
     },
     "execution_count": 5,
     "metadata": {},
     "output_type": "execute_result"
    }
   ],
   "source": [
    "andreoni_miller_budgets"
   ]
  },
  {
   "cell_type": "code",
   "execution_count": 6,
   "id": "ab3d9ca9-3a99-48af-983f-c130712c4949",
   "metadata": {},
   "outputs": [
    {
     "data": {
      "text/plain": [
       "[(400, 2000),\n",
       " (420, 1680),\n",
       " (470, 1410),\n",
       " (500, 1250),\n",
       " (510, 1020),\n",
       " (560, 800),\n",
       " (600, 750),\n",
       " (610, 610),\n",
       " (630, 420),\n",
       " (640, 320),\n",
       " (660, 220),\n",
       " (680, 170)]"
      ]
     },
     "execution_count": 6,
     "metadata": {},
     "output_type": "execute_result"
    }
   ],
   "source": [
    "budget_constraints_alg2"
   ]
  },
  {
   "cell_type": "code",
   "execution_count": 7,
   "id": "5531af66-1c9b-4962-9407-73c0e30c4f9f",
   "metadata": {},
   "outputs": [],
   "source": [
    "#plot_simple_budget_constraints(andreoni_miller_budgets, title=\"Andreoni & Miller constraints\", save=True, savepath=out, colors=\"blue\")\n",
    "#plot_simple_upward_constraints(upward_sloping, colors = \"black\", save=\"True\", savepath=img_path+\"/upward.png\", title=\"Upward sloping constraints\")\n",
    "#plot_simple_budget_constraints(budget_constraints_alg2, title=\"12 new budget constraints\", save=True, savepath=out, colors=\"red\")"
   ]
  },
  {
   "cell_type": "markdown",
   "id": "6c39db7d-e867-40e3-af12-2517fb7955f8",
   "metadata": {},
   "source": [
    "## Data simulation"
   ]
  },
  {
   "cell_type": "code",
   "execution_count": 8,
   "id": "6d8ef8f9-425b-4389-a8ab-f32825189aef",
   "metadata": {},
   "outputs": [],
   "source": [
    "df_free_am, df_nodis_am = simulate_dataset(\n",
    "        budgets = andreoni_miller_budgets,\n",
    "        utility_func = ces,\n",
    "        param_distributions=param_distribution_ces,\n",
    "        n_samples= 200,\n",
    "        noise_sd = [0,10,20,50,100],\n",
    "        maximiser=\"exact\",\n",
    "        seed=42)"
   ]
  },
  {
   "cell_type": "code",
   "execution_count": 9,
   "id": "f81b041a-487f-46b2-ad59-688e8069e300",
   "metadata": {},
   "outputs": [],
   "source": [
    "\"\"\"\n",
    "df_free_nb_appr_1, df_nodis_nb_appr_1 = simulate_dataset(\n",
    "        budgets = new_budgets_approach_1,\n",
    "        utility_func = ces,\n",
    "        param_distributions=param_distribution_ces,\n",
    "        n_samples= 200,\n",
    "        noise_sd = [0,1,2,5,10],\n",
    "        maximiser=\"exact\")\n",
    "\"\"\"\n",
    "\n",
    "df_free_nb_appr_2, df_nodis_nb_appr_2 = simulate_dataset(\n",
    "        budgets = budget_constraints_alg2,\n",
    "        utility_func = ces,\n",
    "        param_distributions=param_distribution_ces,\n",
    "        n_samples= 200,\n",
    "        noise_sd = [0,10,20,50,100],\n",
    "        maximiser=\"exact\",\n",
    "        seed=42)"
   ]
  },
  {
   "cell_type": "markdown",
   "id": "21c38035-4757-4aae-a445-633412cf249e",
   "metadata": {},
   "source": [
    "## Plot noise"
   ]
  },
  {
   "cell_type": "code",
   "execution_count": null,
   "id": "41d935c5-8d2e-4dcc-ba0d-318609a57674",
   "metadata": {},
   "outputs": [],
   "source": [
    "df_nodis_am[\"utility_func\"] = ces \n",
    "plot_noise(\n",
    "    df_nodis_am,\n",
    "    utility_func=ces,\n",
    "    noise_sd=50,\n",
    "    free_disposal=False,\n",
    "    save=True,\n",
    "    savepath=img_path,\n",
    "    title = \"Simulation results - CES Utility - α ~ U(0.5,1), ρ ~ U(-0.5,0.95)\"\n",
    ")"
   ]
  },
  {
   "cell_type": "code",
   "execution_count": null,
   "id": "9e1b0744-8830-469b-a251-2ad2b8352c30",
   "metadata": {},
   "outputs": [],
   "source": [
    "df_free_am[\"utility_func\"] = ces \n",
    "plot_noise(\n",
    "    df_free_am,\n",
    "    utility_func=ces,\n",
    "    noise_sd=100,\n",
    "    free_disposal=False,\n",
    "    save=True,\n",
    "    savepath=img_path,\n",
    "    title = \"Simulation results - CES Utility - α ~ U(0.5,1), ρ ~ U(-0.5,0.95)\"\n",
    ")"
   ]
  },
  {
   "cell_type": "code",
   "execution_count": null,
   "id": "eeac3af1-ba3f-47c3-a6ea-cd2dfe16123d",
   "metadata": {},
   "outputs": [],
   "source": [
    "\"\"\"\n",
    "df_nodis_nb_appr_2[\"utility_func\"] = ces \n",
    "plot_noise(\n",
    "    df_nodis_nb_appr_2,\n",
    "    utility_func=ces,\n",
    "    param_distributions= param_distribution_ces,\n",
    "    noise_sd=5,\n",
    "    free_disposal=False,\n",
    "    save=False\n",
    ")\n",
    "\"\"\""
   ]
  },
  {
   "cell_type": "markdown",
   "id": "ae46bc93-e725-451f-98d6-232579c77ec3",
   "metadata": {
    "jp-MarkdownHeadingCollapsed": true
   },
   "source": [
    "## Test revealed preferences"
   ]
  },
  {
   "cell_type": "markdown",
   "id": "6479b208-fd85-433b-8eef-edd9c17882f3",
   "metadata": {
    "jp-MarkdownHeadingCollapsed": true
   },
   "source": [
    "### Plot the distribution of the CCEI score"
   ]
  },
  {
   "cell_type": "code",
   "execution_count": null,
   "id": "012ba20a-6995-4b4d-9dd4-0f53c8c6a111",
   "metadata": {},
   "outputs": [],
   "source": [
    "plot_index(df_free_am,\n",
    "           title=\"CCEI distribution - Andreoni & Miller constraints \", \n",
    "           save_path = img_path+\"/ccei_am_freedis\")"
   ]
  },
  {
   "cell_type": "code",
   "execution_count": null,
   "id": "b7021c05-2218-4599-9392-da10634e65c4",
   "metadata": {},
   "outputs": [],
   "source": [
    "plot_index(df_nodis_am,\n",
    "           title=\"CCEI distribution - Andreoni & Miller constraints \", \n",
    "           save_path = img_path+\"/ccei_am_nodis\")"
   ]
  },
  {
   "cell_type": "code",
   "execution_count": null,
   "id": "7254a064-5f65-4aa6-8183-22bac2973920",
   "metadata": {},
   "outputs": [],
   "source": [
    "plot_index(df_nodis_nb_appr_2, \n",
    "           title=\"CCEI distribution - 11 new budget constraints\",\n",
    "           save_path = img_path+\"/ccei_nbs_alg2_nodis\")"
   ]
  },
  {
   "cell_type": "code",
   "execution_count": null,
   "id": "632af4bc-1e6e-4516-9310-e7e23f98db3c",
   "metadata": {},
   "outputs": [],
   "source": [
    "plot_index(df_free_nb_appr_2, \n",
    "           title=\"CCEI distribution - 11 new budget constraints\",\n",
    "           save_path = img_path+\"/ccei_nbs_alg2_freedis\")"
   ]
  },
  {
   "cell_type": "markdown",
   "id": "a966568f-c3b4-4574-94d4-122e53712807",
   "metadata": {
    "jp-MarkdownHeadingCollapsed": true
   },
   "source": [
    "### Plot the distribution of the HMI index"
   ]
  },
  {
   "cell_type": "code",
   "execution_count": null,
   "id": "a300b117-0803-4b97-a3f1-04f5d8bf3152",
   "metadata": {},
   "outputs": [],
   "source": [
    "plot_index(df_nodis_am, \n",
    "           index_type=\"HMI\", \n",
    "           title=\"HMI distribution - Andreoni & Miller constraints\", \n",
    "           save_path = img_path+\"/hmi_am\", \n",
    "           note = \"CES: α ~ U(0.5,0.95), ρ ~ U(-0.5,0.95). Simulations: 500. Noise generated without free disposal.\")"
   ]
  },
  {
   "cell_type": "markdown",
   "id": "268189c0-822e-4618-9ebc-f42665e6912e",
   "metadata": {
    "jp-MarkdownHeadingCollapsed": true
   },
   "source": [
    "### Plot CCEI distribution by subject's type"
   ]
  },
  {
   "cell_type": "code",
   "execution_count": null,
   "id": "217e4de6-e524-4044-a76f-8dcebe181238",
   "metadata": {},
   "outputs": [],
   "source": [
    "param_dists = {\n",
    "    # ─────────────────────  ALTRUISTIC  ─────────────────────\n",
    "    \"altruistic_efficiency_maximiser\": {\n",
    "        \"alpha_ces\": lambda: np.random.uniform(0.5, 0.6),\n",
    "        \"rho_ces\":   lambda: np.random.uniform(0.1, 0.9)\n",
    "    },\n",
    "    \"altruistic_inequity_averse\": {\n",
    "        \"alpha_ces\": lambda: np.random.uniform(0.5, 0.6),\n",
    "        \"rho_ces\":   lambda: np.random.uniform(-0.9, -0.1)\n",
    "    },\n",
    "\n",
    "    # ───────────────────────  SELFISH  ──────────────────────\n",
    "    \"selfish_efficiency_maximiser\": {\n",
    "        \"alpha_ces\": lambda: np.random.uniform(0.6, 1.0),\n",
    "        \"rho_ces\":   lambda: np.random.uniform(0.1, 0.9)\n",
    "    },\n",
    "    \"selfish_inequity_averse\": {\n",
    "        \"alpha_ces\": lambda: np.random.uniform(0.6, 1.0),\n",
    "        \"rho_ces\":   lambda: np.random.uniform(-0.9, -0.1)\n",
    "    }\n",
    "}"
   ]
  },
  {
   "cell_type": "code",
   "execution_count": null,
   "id": "b5d126ee-ec12-4570-95cb-ba2cfb76c157",
   "metadata": {},
   "outputs": [],
   "source": [
    "for label, pdist in param_dists.items():\n",
    "    df_fs, df_nd = simulate_dataset(\n",
    "        budgets            = andreoni_miller_budgets,\n",
    "        utility_func       = ces,\n",
    "        param_distributions= pdist,\n",
    "        n_samples          = 300,\n",
    "        noise_sd           = [0, 10, 20, 50, 100],\n",
    "        maximiser          = \"exact\",\n",
    "        seed = 42\n",
    "    )\n",
    "    plot_index(df_nd, index_type=\"CCEI\", \n",
    "               title=label.replace(\"_\", \" \").title()+\" - Andreoni & Miller constraints\",\n",
    "               save_path = img_path+f\"/{label}_am\")"
   ]
  },
  {
   "cell_type": "code",
   "execution_count": null,
   "id": "91148951-961f-4171-937e-5af2fee17e8b",
   "metadata": {},
   "outputs": [],
   "source": [
    "for label, pdist in param_dists.items():\n",
    "    df_fs, df_nd = simulate_dataset(\n",
    "        budgets            = budget_constraints_alg2,\n",
    "        utility_func       = ces,\n",
    "        param_distributions= pdist,\n",
    "        n_samples          = 200,\n",
    "        noise_sd           = [0, 10, 20, 50, 100],\n",
    "        maximiser          = \"exact\",\n",
    "        seed = 42\n",
    "    )\n",
    "    plot_index(df_nd, index_type=\"CCEI\", \n",
    "               title=label.replace(\"_\", \" \").title()+\"- 11 new budget constraints\",\n",
    "               save_path = img_path+f\"/{label}_nc\")"
   ]
  },
  {
   "cell_type": "markdown",
   "id": "fe94d92e-d004-489a-9b12-0fac8fec17d8",
   "metadata": {
    "jp-MarkdownHeadingCollapsed": true
   },
   "source": [
    "## Distance checks "
   ]
  },
  {
   "cell_type": "code",
   "execution_count": null,
   "id": "dd939494-236e-4ba4-bac0-e0d2e7210425",
   "metadata": {},
   "outputs": [],
   "source": [
    "distance_free, distance_no_disposal = simulate_dataset(\n",
    "        budgets = andreoni_miller_budgets,\n",
    "        utility_func = ces,\n",
    "        param_distributions={'alpha_ces': lambda: np.random.uniform(0.7, 1), 'rho_ces': lambda: np.random.uniform(-0.5, 0.5)},\n",
    "        n_samples= 200,\n",
    "        noise_sd = [0,1,2,5,10],\n",
    "        maximiser=\"exact\")\n",
    "\n",
    "distance_free_2, distance_no_disposal_2 = simulate_dataset(\n",
    "        budgets = andreoni_miller_budgets,\n",
    "        utility_func = ces,\n",
    "        param_distributions={'alpha_ces': lambda: np.random.uniform(0.5, 0.6), 'rho_ces': lambda: np.random.uniform(-0.5, 0.5)},\n",
    "        n_samples= 200,\n",
    "        noise_sd = [0,1,2,5,10],\n",
    "        maximiser=\"exact\")"
   ]
  },
  {
   "cell_type": "code",
   "execution_count": null,
   "id": "0ad84c2a-0384-41c3-8090-ada2f24140e6",
   "metadata": {},
   "outputs": [],
   "source": [
    "distance_free[\"utility_func\"]= ces\n",
    "plot_noise(\n",
    "    distance_free,\n",
    "    utility_func=ces,\n",
    "    noise_sd=2,\n",
    "    free_disposal=True,\n",
    "    save=True,\n",
    "    savepath=img_path, \n",
    "    title = \": α ~ U(0.7, 1), ρ ~ U(-0.5, 0.5)\"\n",
    ")"
   ]
  },
  {
   "cell_type": "code",
   "execution_count": null,
   "id": "f19e1f34-331c-4d52-a3f5-a7541dcb13ad",
   "metadata": {},
   "outputs": [],
   "source": [
    "distance_free_2[\"utility_func\"]= ces\n",
    "plot_noise(\n",
    "    distance_free_2,\n",
    "    utility_func=ces,\n",
    "    noise_sd=2,\n",
    "    free_disposal=False,\n",
    "    save=True,\n",
    "    savepath=img_path, \n",
    "    title = \": α ~ U(0.5, 0.6), ρ ~ U(-0.5, 0.5)\"\n",
    ")"
   ]
  },
  {
   "cell_type": "code",
   "execution_count": null,
   "id": "ed815531-3cce-440b-a3e7-b78c69d0bfb9",
   "metadata": {},
   "outputs": [],
   "source": [
    "df = compute_distance(distance_free)\n",
    "print(\"======================================================================\")\n",
    "df = compute_distance(distance_free_2)"
   ]
  },
  {
   "cell_type": "markdown",
   "id": "f75ece02-5f03-4e8d-b96e-6710dc3895fd",
   "metadata": {},
   "source": [
    "## Quantifying noise levels"
   ]
  },
  {
   "cell_type": "code",
   "execution_count": 16,
   "id": "77ad3a62-d3e6-4714-acc6-eb07a4f8ead6",
   "metadata": {
    "scrolled": true
   },
   "outputs": [
    {
     "data": {
      "text/html": [
       "<div>\n",
       "<style scoped>\n",
       "    .dataframe tbody tr th:only-of-type {\n",
       "        vertical-align: middle;\n",
       "    }\n",
       "\n",
       "    .dataframe tbody tr th {\n",
       "        vertical-align: top;\n",
       "    }\n",
       "\n",
       "    .dataframe thead th {\n",
       "        text-align: right;\n",
       "    }\n",
       "</style>\n",
       "<table border=\"1\" class=\"dataframe\">\n",
       "  <thead>\n",
       "    <tr style=\"text-align: right;\">\n",
       "      <th></th>\n",
       "      <th>noise</th>\n",
       "      <th>mean_welfare_loss</th>\n",
       "      <th>mean_welfare_loss_rate</th>\n",
       "      <th>percentage</th>\n",
       "    </tr>\n",
       "  </thead>\n",
       "  <tbody>\n",
       "    <tr>\n",
       "      <th>0</th>\n",
       "      <td>0</td>\n",
       "      <td>3.902301e-13</td>\n",
       "      <td>7.788672e-16</td>\n",
       "      <td>1.169754e-15</td>\n",
       "    </tr>\n",
       "    <tr>\n",
       "      <th>1</th>\n",
       "      <td>10</td>\n",
       "      <td>1.138584e+01</td>\n",
       "      <td>1.805430e-02</td>\n",
       "      <td>3.413021e-02</td>\n",
       "    </tr>\n",
       "    <tr>\n",
       "      <th>2</th>\n",
       "      <td>20</td>\n",
       "      <td>3.812281e+01</td>\n",
       "      <td>6.395928e-02</td>\n",
       "      <td>1.142770e-01</td>\n",
       "    </tr>\n",
       "    <tr>\n",
       "      <th>3</th>\n",
       "      <td>50</td>\n",
       "      <td>1.570368e+02</td>\n",
       "      <td>2.648886e-01</td>\n",
       "      <td>4.707339e-01</td>\n",
       "    </tr>\n",
       "    <tr>\n",
       "      <th>4</th>\n",
       "      <td>100</td>\n",
       "      <td>3.988218e+02</td>\n",
       "      <td>6.806689e-01</td>\n",
       "      <td>1.195509e+00</td>\n",
       "    </tr>\n",
       "  </tbody>\n",
       "</table>\n",
       "</div>"
      ],
      "text/plain": [
       "   noise  mean_welfare_loss  mean_welfare_loss_rate    percentage\n",
       "0      0       3.902301e-13            7.788672e-16  1.169754e-15\n",
       "1     10       1.138584e+01            1.805430e-02  3.413021e-02\n",
       "2     20       3.812281e+01            6.395928e-02  1.142770e-01\n",
       "3     50       1.570368e+02            2.648886e-01  4.707339e-01\n",
       "4    100       3.988218e+02            6.806689e-01  1.195509e+00"
      ]
     },
     "metadata": {},
     "output_type": "display_data"
    }
   ],
   "source": [
    "expected_new_constraints = 333.6\n",
    "df_loss = attach_money_metric_loss(df_nodis_nb_appr_2, ces)\n",
    "summary = summarize_welfare_loss_by_noise(df_loss, id_col=\"id\")\n",
    "\n",
    "summary[\"percentage\"]=summary[\"mean_welfare_loss\"]/expected_new_constraints\n",
    "\n",
    "\n",
    "display(summary)"
   ]
  },
  {
   "cell_type": "code",
   "execution_count": 19,
   "id": "46b80bba-6b4b-4ae6-9047-6261641a8694",
   "metadata": {},
   "outputs": [
    {
     "data": {
      "text/html": [
       "<div>\n",
       "<style scoped>\n",
       "    .dataframe tbody tr th:only-of-type {\n",
       "        vertical-align: middle;\n",
       "    }\n",
       "\n",
       "    .dataframe tbody tr th {\n",
       "        vertical-align: top;\n",
       "    }\n",
       "\n",
       "    .dataframe thead th {\n",
       "        text-align: right;\n",
       "    }\n",
       "</style>\n",
       "<table border=\"1\" class=\"dataframe\">\n",
       "  <thead>\n",
       "    <tr style=\"text-align: right;\">\n",
       "      <th></th>\n",
       "      <th>noise</th>\n",
       "      <th>mean_welfare_loss</th>\n",
       "      <th>mean_welfare_loss_rate</th>\n",
       "      <th>percentage</th>\n",
       "    </tr>\n",
       "  </thead>\n",
       "  <tbody>\n",
       "    <tr>\n",
       "      <th>0</th>\n",
       "      <td>0</td>\n",
       "      <td>8.535039e-13</td>\n",
       "      <td>1.033034e-15</td>\n",
       "      <td>1.868367e-15</td>\n",
       "    </tr>\n",
       "    <tr>\n",
       "      <th>1</th>\n",
       "      <td>10</td>\n",
       "      <td>7.349457e+00</td>\n",
       "      <td>8.030171e-03</td>\n",
       "      <td>1.608836e-02</td>\n",
       "    </tr>\n",
       "    <tr>\n",
       "      <th>2</th>\n",
       "      <td>20</td>\n",
       "      <td>4.186263e+01</td>\n",
       "      <td>4.908187e-02</td>\n",
       "      <td>9.163959e-02</td>\n",
       "    </tr>\n",
       "    <tr>\n",
       "      <th>3</th>\n",
       "      <td>50</td>\n",
       "      <td>1.290621e+02</td>\n",
       "      <td>1.425935e-01</td>\n",
       "      <td>2.825240e-01</td>\n",
       "    </tr>\n",
       "    <tr>\n",
       "      <th>4</th>\n",
       "      <td>100</td>\n",
       "      <td>3.379479e+02</td>\n",
       "      <td>3.796505e-01</td>\n",
       "      <td>7.397864e-01</td>\n",
       "    </tr>\n",
       "  </tbody>\n",
       "</table>\n",
       "</div>"
      ],
      "text/plain": [
       "   noise  mean_welfare_loss  mean_welfare_loss_rate    percentage\n",
       "0      0       8.535039e-13            1.033034e-15  1.868367e-15\n",
       "1     10       7.349457e+00            8.030171e-03  1.608836e-02\n",
       "2     20       4.186263e+01            4.908187e-02  9.163959e-02\n",
       "3     50       1.290621e+02            1.425935e-01  2.825240e-01\n",
       "4    100       3.379479e+02            3.796505e-01  7.397864e-01"
      ]
     },
     "metadata": {},
     "output_type": "display_data"
    }
   ],
   "source": [
    "expected_am_constraints = 456.8181818\n",
    "\n",
    "df_loss_am = attach_money_metric_loss(df_nodis_am, ces)\n",
    "summary_am = summarize_welfare_loss_by_noise(df_loss_am, id_col=\"id\")\n",
    "\n",
    "summary_am[\"percentage\"]=summary_am[\"mean_welfare_loss\"]/expected_am_constraints\n",
    "\n",
    "\n",
    "display(summary_am)"
   ]
  },
  {
   "cell_type": "markdown",
   "id": "a4672e6c-750b-4b85-80c4-4a166231c1af",
   "metadata": {},
   "source": [
    "### Sensitivity to noise"
   ]
  },
  {
   "cell_type": "code",
   "execution_count": 12,
   "id": "8d2d95d7-93ae-44b0-94cc-8ada8afb8744",
   "metadata": {},
   "outputs": [
    {
     "name": "stdout",
     "output_type": "stream",
     "text": [
      "{'sigma_min': 28.2, 'violators': 1, 'share_violators': 0.0033333333333333335, 'disposal': 'nodis', 'mc_rep': 0, 'checked_sigmas': [1.0, 1.1, 1.2, 1.3, 1.4, 1.5, 1.6, 1.7, 1.8, 1.9, 2.0, 2.1, 2.2, 2.3, 2.4, 2.5, 2.6, 2.7, 2.8, 2.9, 3.0, 3.1, 3.2, 3.3, 3.4, 3.5, 3.6, 3.7, 3.8, 3.9, 4.0, 4.1, 4.2, 4.3, 4.4, 4.5, 4.6, 4.7, 4.8, 4.9, 5.0, 5.1, 5.2, 5.3, 5.4, 5.5, 5.6, 5.7, 5.8, 5.9, 6.0, 6.1, 6.2, 6.3, 6.4, 6.5, 6.6, 6.7, 6.8, 6.9, 7.0, 7.1, 7.2, 7.3, 7.4, 7.5, 7.6, 7.7, 7.8, 7.9, 8.0, 8.1, 8.2, 8.3, 8.4, 8.5, 8.6, 8.7, 8.8, 8.9, 9.0, 9.1, 9.2, 9.3, 9.4, 9.5, 9.6, 9.7, 9.8, 9.9, 10.0, 10.1, 10.2, 10.3, 10.4, 10.5, 10.6, 10.7, 10.8, 10.9, 11.0, 11.1, 11.2, 11.3, 11.4, 11.5, 11.6, 11.7, 11.8, 11.9, 12.0, 12.1, 12.2, 12.3, 12.4, 12.5, 12.6, 12.7, 12.8, 12.9, 13.0, 13.1, 13.2, 13.3, 13.4, 13.5, 13.6, 13.7, 13.8, 13.9, 14.0, 14.1, 14.2, 14.3, 14.4, 14.5, 14.6, 14.7, 14.8, 14.9, 15.0, 15.1, 15.2, 15.3, 15.4, 15.5, 15.6, 15.7, 15.8, 15.9, 16.0, 16.1, 16.2, 16.3, 16.4, 16.5, 16.6, 16.7, 16.8, 16.9, 17.0, 17.1, 17.2, 17.3, 17.4, 17.5, 17.6, 17.7, 17.8, 17.9, 18.0, 18.1, 18.2, 18.3, 18.4, 18.5, 18.6, 18.7, 18.8, 18.9, 19.0, 19.1, 19.2, 19.3, 19.4, 19.5, 19.6, 19.7, 19.8, 19.9, 20.0, 20.1, 20.2, 20.3, 20.4, 20.5, 20.6, 20.7, 20.8, 20.9, 21.0, 21.1, 21.2, 21.3, 21.4, 21.5, 21.6, 21.7, 21.8, 21.9, 22.0, 22.1, 22.2, 22.3, 22.4, 22.5, 22.6, 22.7, 22.8, 22.9, 23.0, 23.1, 23.2, 23.3, 23.4, 23.5, 23.6, 23.7, 23.8, 23.9, 24.0, 24.1, 24.2, 24.3, 24.4, 24.5, 24.6, 24.7, 24.8, 24.9, 25.0, 25.1, 25.2, 25.3, 25.4, 25.5, 25.6, 25.7, 25.8, 25.9, 26.0, 26.1, 26.2, 26.3, 26.4, 26.5, 26.6, 26.7, 26.8, 26.9, 27.0, 27.1, 27.2, 27.3, 27.4, 27.5, 27.6, 27.7, 27.8, 27.9, 28.0, 28.1, 28.2], 'grid_params': (1.0, 100.0, 0.1)}\n"
     ]
    }
   ],
   "source": [
    "result = min_sigma_for_garp(\n",
    "    budgets=andreoni_miller_budgets,\n",
    "    utility_func=ces,\n",
    "    param_distributions=param_distribution_ces,\n",
    "    n_samples=300,\n",
    "    sigma_start=1,\n",
    "    sigma_stop=100.0,\n",
    "    sigma_step=0.1,\n",
    "    disposal=\"nodis\",\n",
    "    maximiser=\"exact\",   \n",
    "    seed=123,\n",
    "    mc_reps=1 \n",
    ")\n",
    "\n",
    "print(result)\n"
   ]
  },
  {
   "cell_type": "code",
   "execution_count": 13,
   "id": "76847b61-a150-4501-98fb-b018c546d1b4",
   "metadata": {},
   "outputs": [
    {
     "name": "stdout",
     "output_type": "stream",
     "text": [
      "{'sigma_min': 7.0, 'violators': 1, 'share_violators': 0.0033333333333333335, 'disposal': 'nodis', 'mc_rep': 0, 'checked_sigmas': [1.0, 1.1, 1.2, 1.3, 1.4, 1.5, 1.6, 1.7, 1.8, 1.9, 2.0, 2.1, 2.2, 2.3, 2.4, 2.5, 2.6, 2.7, 2.8, 2.9, 3.0, 3.1, 3.2, 3.3, 3.4, 3.5, 3.6, 3.7, 3.8, 3.9, 4.0, 4.1, 4.2, 4.3, 4.4, 4.5, 4.6, 4.7, 4.8, 4.9, 5.0, 5.1, 5.2, 5.3, 5.4, 5.5, 5.6, 5.7, 5.8, 5.9, 6.0, 6.1, 6.2, 6.3, 6.4, 6.5, 6.6, 6.7, 6.8, 6.9, 7.0], 'grid_params': (1.0, 100.0, 0.1)}\n"
     ]
    }
   ],
   "source": [
    "result = min_sigma_for_garp(\n",
    "    budgets=budget_constraints_alg2,\n",
    "    utility_func=ces,\n",
    "    param_distributions=param_distribution_ces,\n",
    "    n_samples=300,\n",
    "    sigma_start=1,\n",
    "    sigma_stop=100.0,\n",
    "    sigma_step=0.1,\n",
    "    disposal=\"nodis\",     \n",
    "    maximiser=\"exact\",   \n",
    "    seed=123,\n",
    "    mc_reps=1           \n",
    ")\n",
    "\n",
    "print(result)\n"
   ]
  }
 ],
 "metadata": {
  "kernelspec": {
   "display_name": "Python 3 (ipykernel)",
   "language": "python",
   "name": "python3"
  },
  "language_info": {
   "codemirror_mode": {
    "name": "ipython",
    "version": 3
   },
   "file_extension": ".py",
   "mimetype": "text/x-python",
   "name": "python",
   "nbconvert_exporter": "python",
   "pygments_lexer": "ipython3",
   "version": "3.11.11"
  }
 },
 "nbformat": 4,
 "nbformat_minor": 5
}
